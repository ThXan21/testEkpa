import os
import numpy as np

# Παράδειγμα λειτουργίας: Αντίδραση σε εντοπισμένη απειλή
def block_traffic(ip_address):
    """
    Αποκλεισμός ύποπτης κυκλοφορίας.
    """
    print(f"Blocking traffic from IP: {ip_address}")
    # Εντολή στο firewall (προσαρμόστε για το περιβάλλον σας)
    os.system(f"iptables -A INPUT -s {ip_address} -j DROP")

def isolate_device(device_mac):
    """
    Απομόνωση συσκευής.
    """
    print(f"Isolating device with MAC: {device_mac}")
    # Παράδειγμα: Εκχώρηση σε απομονωμένο VLAN
    os.system(f"some_network_command --isolate {device_mac}")

def notify_admin(threat_type, details):
    """
    Ειδοποίηση διαχειριστή.
    """
    print(f"ALERT: Threat detected! Type: {threat_type}, Details: {details}")
    # Προσθήκη ειδοποίησης σε log ή αποστολή email
    with open("alerts.log", "a") as log_file:
        log_file.write(f"Threat detected! Type: {threat_type}, Details: {details}\n")

# Παράδειγμα λογικής απόφασης IPS
def ips_action(prediction, ip_address=None, mac_address=None):
    """
    Προληπτική ενέργεια βάσει πρόβλεψης του μοντέλου.
    """
    threat_classes = ["WebDDoS", "BENIGN", "UDP-lag", "DrDoS_NTP", "Syn",
                      "DrDoS_SSDP", "DrDoS_UDP", "DrDoS_NetBIOS", "DrDoS_MSSQL",
                      "DrDoS_SNMP", "TFTP", "DrDoS_DNS"]
    detected_class = threat_classes[np.argmax(prediction)]
    
    print(f"Detected threat: {detected_class}")
    if detected_class != "BENIGN":
        # Ενέργειες βάσει είδους απειλής
        if detected_class in ["WebDDoS", "DrDoS_DNS"]:
            block_traffic(ip_address)
        elif detected_class in ["DrDoS_SSDP", "Syn"]:
            isolate_device(mac_address)
        else:
            notify_admin(detected_class, f"IP: {ip_address}, MAC: {mac_address}")
    else:
        print("No threat detected. Traffic is safe.")

# Ενσωμάτωση στο pipeline του IDS
predictions = model.predict(test_data)
for i, prediction in enumerate(predictions):
    ips_action(prediction, ip_address="192.168.0.1", mac_address="00:1A:2B:3C:4D:5E")
